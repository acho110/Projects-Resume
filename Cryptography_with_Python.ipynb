{
  "nbformat": 4,
  "nbformat_minor": 0,
  "metadata": {
    "colab": {
      "provenance": [],
      "authorship_tag": "ABX9TyP3ehwiRkG1b1X5E8Uor4cs",
      "include_colab_link": true
    },
    "kernelspec": {
      "name": "python3",
      "display_name": "Python 3"
    },
    "language_info": {
      "name": "python"
    }
  },
  "cells": [
    {
      "cell_type": "markdown",
      "metadata": {
        "id": "view-in-github",
        "colab_type": "text"
      },
      "source": [
        "<a href=\"https://colab.research.google.com/github/acho110/Projects-Resume/blob/main/Cryptography_with_Python.ipynb\" target=\"_parent\"><img src=\"https://colab.research.google.com/assets/colab-badge.svg\" alt=\"Open In Colab\"/></a>"
      ]
    },
    {
      "cell_type": "code",
      "execution_count": 65,
      "metadata": {
        "id": "PITP3fS70_6e"
      },
      "outputs": [],
      "source": [
        "from sympy import mod_inverse"
      ]
    },
    {
      "cell_type": "markdown",
      "source": [
        "# **Create Public Keys**"
      ],
      "metadata": {
        "id": "liw0MQPphV9g"
      }
    },
    {
      "cell_type": "code",
      "source": [
        "p=112481050639317229656723018120659623829736571015511322021617837187076258724819\n",
        "q=89185111938335771293328323333111422985697062149139368049232365065924632677343\n",
        "\n",
        "n = p * q\n",
        "\n",
        "e = 65537\n",
        "\n",
        "print(f'{n}\\n{e}')"
      ],
      "metadata": {
        "colab": {
          "base_uri": "https://localhost:8080/"
        },
        "id": "VxVvBCJHccia",
        "outputId": "32e5fbe6-bc26-4a1e-c5bf-cc5f363bd3a3"
      },
      "execution_count": 66,
      "outputs": [
        {
          "output_type": "stream",
          "name": "stdout",
          "text": [
            "10031635092209121498674987861649022163771061565130441373555584537047455688991931937563110507506652959265182705476941444174840580049331773111276155053075917\n",
            "65537\n"
          ]
        }
      ]
    },
    {
      "cell_type": "markdown",
      "source": [
        "# **Create the private keys**\n",
        "- This output will be our private key and can be hashed multiple times for extra protection for a user"
      ],
      "metadata": {
        "id": "Z_f_lMPNgpD_"
      }
    },
    {
      "cell_type": "code",
      "source": [
        "priv = (p-1)*(q-1)\n",
        "d = mod_inverse(e, priv)\n",
        "\n",
        "\n",
        "print(f'The private key is {d}')"
      ],
      "metadata": {
        "colab": {
          "base_uri": "https://localhost:8080/"
        },
        "id": "A2WWvEXjdWBs",
        "outputId": "e16d44f4-731f-4af1-e760-ebb4faffb43c"
      },
      "execution_count": 67,
      "outputs": [
        {
          "output_type": "stream",
          "name": "stdout",
          "text": [
            "The private key is 6886694454027199678759881881737814611139109676622117091683160716943132564863007715345245794849719693156483947830169207322284232384798025277322134502462181\n"
          ]
        }
      ]
    },
    {
      "cell_type": "markdown",
      "source": [
        "# **Encryption**\n",
        "\n",
        "This code snippet implements the encryption part of the RSA algorithm. It first takes a password or message from the user. Then, it converts this message into a numerical representation (a large integer) using encoding and byte conversion. Finally, it encrypts this numerical representation using the RSA encryption formula (c = m^e mod n) where m is the message, e and n are public keys, and c is the resulting ciphertext. This ciphertext can then be safely transmitted, as only someone with the private key (d) can decrypt it back to the original message."
      ],
      "metadata": {
        "id": "XdmbEOagg6Qd"
      }
    },
    {
      "cell_type": "code",
      "source": [
        "from IPython.display import clear_output\n",
        "import getpass"
      ],
      "metadata": {
        "id": "GHadzAwykCdr"
      },
      "execution_count": 68,
      "outputs": []
    },
    {
      "cell_type": "code",
      "source": [
        "plainText = getpass.getpass(\"Enter your password:\") # bytes, turn into ints now\n",
        "\n",
        "m = int.from_bytes(plainText.encode('utf-8'), \"big\")\n",
        "\n",
        "c = pow(m, e, n)\n",
        "print(f\"The encypted message is: {c}\")\n",
        "clear_output(wait=True)"
      ],
      "metadata": {
        "colab": {
          "base_uri": "https://localhost:8080/"
        },
        "id": "VWZA2QCQj5P6",
        "outputId": "72ed8149-eafe-4564-846b-2f21c1b658cf"
      },
      "execution_count": 69,
      "outputs": [
        {
          "output_type": "stream",
          "name": "stdout",
          "text": [
            "Enter your password:··········\n",
            "The encypted message is: 0\n"
          ]
        }
      ]
    },
    {
      "cell_type": "markdown",
      "source": [
        "# **Decryption**"
      ],
      "metadata": {
        "id": "Qa4vNYZOkUhE"
      }
    },
    {
      "cell_type": "code",
      "source": [
        "m2 = pow(c, d, n)\n",
        "\n",
        "print(f\"The decrypted message is: {m2}\")\n",
        "\n",
        "#turning it into bytes\n",
        "m2_bytes = m2.to_bytes((m2.bit_length() + 7) // 8, \"big\")\n",
        "\n",
        "password = m2_bytes.decode()\n",
        "print(f\"My password was {password}\")"
      ],
      "metadata": {
        "id": "noBqwgnlS15L",
        "colab": {
          "base_uri": "https://localhost:8080/"
        },
        "outputId": "618be49e-3a39-4d4c-efb7-2d3e8f72f85a"
      },
      "execution_count": 70,
      "outputs": [
        {
          "output_type": "stream",
          "name": "stdout",
          "text": [
            "The decrypted message is: 0\n",
            "My password was \n"
          ]
        }
      ]
    },
    {
      "cell_type": "markdown",
      "source": [
        "# **Signing a Message**\n",
        "\n",
        "- This task is important in RSA encryption and message sending to verify where a message came from. Utilized a lot in blockchain technology for payments"
      ],
      "metadata": {
        "id": "FEqWqamTlO7t"
      }
    },
    {
      "cell_type": "code",
      "source": [
        "import hashlib\n",
        "import os\n",
        "from google.colab import files"
      ],
      "metadata": {
        "id": "Ivn4I5DllSiS"
      },
      "execution_count": 71,
      "outputs": []
    },
    {
      "cell_type": "code",
      "source": [
        "m_hash = hashlib.sha256(b'Congrats! You just decrypted your first message!').hexdigest()\n",
        "\n",
        "type(m_hash) # found it is a str, so need to turn it into an integer\n",
        "\n",
        "print(m_hash)\n",
        "\n",
        "mInt = int.from_bytes(m_hash.encode('utf-8'), \"big\")\n",
        "\n",
        "(type(mInt))\n",
        "\n",
        "mInt"
      ],
      "metadata": {
        "colab": {
          "base_uri": "https://localhost:8080/"
        },
        "id": "KClcKZJTo5mM",
        "outputId": "c4a8ae23-23a4-415f-9688-4eeca6e238eb"
      },
      "execution_count": 72,
      "outputs": [
        {
          "output_type": "stream",
          "name": "stdout",
          "text": [
            "c98b86cf748ca732199bbafb5bca1ac2db34416b198bf3906c6cf3bb19e2c015\n"
          ]
        },
        {
          "output_type": "execute_result",
          "data": {
            "text/plain": [
              "5196757236952167220763533464276920932199772536270749930947313681585064170024490586392502408018385385327118416752669008082891762309836988228207000058605877"
            ]
          },
          "metadata": {},
          "execution_count": 72
        }
      ]
    },
    {
      "cell_type": "code",
      "source": [
        "signature = pow(mInt, d, n)\n",
        "\n",
        "signature"
      ],
      "metadata": {
        "colab": {
          "base_uri": "https://localhost:8080/"
        },
        "id": "ZjHmeWn_sFXc",
        "outputId": "f15b5fa6-3670-4370-9d52-d6eee7eac3a1"
      },
      "execution_count": 73,
      "outputs": [
        {
          "output_type": "execute_result",
          "data": {
            "text/plain": [
              "3141272798217254437841732019283821297853765608850884890749159341487650279071377864998607585732045317788354363036712706102305523253064683707241033589893839"
            ]
          },
          "metadata": {},
          "execution_count": 73
        }
      ]
    },
    {
      "cell_type": "markdown",
      "source": [
        "# **Verification**\n",
        "\n",
        "- Verifying who this signed message is from"
      ],
      "metadata": {
        "id": "O3DpNEjjlu1J"
      }
    },
    {
      "cell_type": "code",
      "source": [
        "#checking to verify\n",
        "\n",
        "check = pow(signature, e, n)\n",
        "verified = (check == mInt)\n",
        "\n",
        "if verified:\n",
        "  print(f\"Is the message or password verified?: {verified}\")\n",
        "  print(f\"It is verifiable with the private key {check}\")\n",
        "else:\n",
        "  print(f\"It is not verifiable with the private key {check}\")"
      ],
      "metadata": {
        "colab": {
          "base_uri": "https://localhost:8080/"
        },
        "id": "qywy6KYOsfUh",
        "outputId": "f8b7741c-bcbd-4b97-cab8-bc3a8ea5c6af"
      },
      "execution_count": 74,
      "outputs": [
        {
          "output_type": "stream",
          "name": "stdout",
          "text": [
            "Is the message or password verified?: True\n",
            "It is verifiable with the private key 5196757236952167220763533464276920932199772536270749930947313681585064170024490586392502408018385385327118416752669008082891762309836988228207000058605877\n"
          ]
        }
      ]
    }
  ]
}