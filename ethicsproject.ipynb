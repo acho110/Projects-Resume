{
  "cells": [
    {
      "cell_type": "markdown",
      "metadata": {
        "id": "view-in-github",
        "colab_type": "text"
      },
      "source": [
        "<a href=\"https://colab.research.google.com/github/acho110/Projects-Resume/blob/main/ethicsproject.ipynb\" target=\"_parent\"><img src=\"https://colab.research.google.com/assets/colab-badge.svg\" alt=\"Open In Colab\"/></a>"
      ]
    },
    {
      "cell_type": "code",
      "execution_count": null,
      "id": "d1ea952f",
      "metadata": {
        "id": "d1ea952f"
      },
      "outputs": [],
      "source": [
        "import pandas as pd\n",
        "import numpy as np\n",
        "from itertools import product\n",
        "from sklearn.linear_model import LogisticRegression\n",
        "from sklearn.ensemble import RandomForestClassifier\n",
        "from sklearn.model_selection import train_test_split\n",
        "from sklearn.metrics import accuracy_score\n",
        "import matplotlib.pyplot as plt"
      ]
    },
    {
      "cell_type": "code",
      "execution_count": null,
      "id": "662bf3c1",
      "metadata": {
        "id": "662bf3c1"
      },
      "outputs": [],
      "source": [
        "df = pd.read_csv(\"adult_reconstruction.csv\")\n",
        "df['low earner'] = np.where(df['income'] < 50000, 1, 0)\n",
        "\n",
        "features = ['hours-per-week','age', 'workclass', 'education', 'relationship', 'race', 'gender', 'occupation']\n",
        "X = df[features].copy()\n",
        "X['groups'] = np.where(X['race'] == 'Asian-Pac-Islander', 1, 0)\n",
        "y = df['low earner'].copy()\n",
        "X = pd.get_dummies(X, columns = ['workclass', 'education', 'occupation', 'relationship'])\n",
        "\n",
        "\n",
        "X.drop(['race', 'gender'], inplace = True, axis = 1)\n",
        "\n"
      ]
    },
    {
      "cell_type": "code",
      "execution_count": null,
      "id": "f1502c6d",
      "metadata": {
        "scrolled": false,
        "id": "f1502c6d",
        "outputId": "e3bc68b6-608c-49d7-caa7-652ce8327a09"
      },
      "outputs": [
        {
          "data": {
            "text/html": [
              "<div>\n",
              "<style scoped>\n",
              "    .dataframe tbody tr th:only-of-type {\n",
              "        vertical-align: middle;\n",
              "    }\n",
              "\n",
              "    .dataframe tbody tr th {\n",
              "        vertical-align: top;\n",
              "    }\n",
              "\n",
              "    .dataframe thead th {\n",
              "        text-align: right;\n",
              "    }\n",
              "</style>\n",
              "<table border=\"1\" class=\"dataframe\">\n",
              "  <thead>\n",
              "    <tr style=\"text-align: right;\">\n",
              "      <th></th>\n",
              "      <th>hours-per-week</th>\n",
              "      <th>age</th>\n",
              "      <th>groups</th>\n",
              "      <th>workclass_?</th>\n",
              "      <th>workclass_Federal-gov</th>\n",
              "      <th>workclass_Local-gov</th>\n",
              "      <th>workclass_Never-worked</th>\n",
              "      <th>workclass_Private</th>\n",
              "      <th>workclass_Self-emp-inc</th>\n",
              "      <th>workclass_Self-emp-not-inc</th>\n",
              "      <th>...</th>\n",
              "      <th>occupation_Protective-serv</th>\n",
              "      <th>occupation_Sales</th>\n",
              "      <th>occupation_Tech-support</th>\n",
              "      <th>occupation_Transport-moving</th>\n",
              "      <th>relationship_Husband</th>\n",
              "      <th>relationship_Not-in-family</th>\n",
              "      <th>relationship_Other-relative</th>\n",
              "      <th>relationship_Own-child</th>\n",
              "      <th>relationship_Unmarried</th>\n",
              "      <th>relationship_Wife</th>\n",
              "    </tr>\n",
              "  </thead>\n",
              "  <tbody>\n",
              "    <tr>\n",
              "      <th>0</th>\n",
              "      <td>20</td>\n",
              "      <td>40</td>\n",
              "      <td>0</td>\n",
              "      <td>0</td>\n",
              "      <td>0</td>\n",
              "      <td>0</td>\n",
              "      <td>0</td>\n",
              "      <td>1</td>\n",
              "      <td>0</td>\n",
              "      <td>0</td>\n",
              "      <td>...</td>\n",
              "      <td>0</td>\n",
              "      <td>0</td>\n",
              "      <td>1</td>\n",
              "      <td>0</td>\n",
              "      <td>0</td>\n",
              "      <td>0</td>\n",
              "      <td>0</td>\n",
              "      <td>0</td>\n",
              "      <td>0</td>\n",
              "      <td>1</td>\n",
              "    </tr>\n",
              "    <tr>\n",
              "      <th>1</th>\n",
              "      <td>40</td>\n",
              "      <td>21</td>\n",
              "      <td>0</td>\n",
              "      <td>0</td>\n",
              "      <td>0</td>\n",
              "      <td>0</td>\n",
              "      <td>0</td>\n",
              "      <td>1</td>\n",
              "      <td>0</td>\n",
              "      <td>0</td>\n",
              "      <td>...</td>\n",
              "      <td>0</td>\n",
              "      <td>0</td>\n",
              "      <td>0</td>\n",
              "      <td>0</td>\n",
              "      <td>0</td>\n",
              "      <td>0</td>\n",
              "      <td>0</td>\n",
              "      <td>1</td>\n",
              "      <td>0</td>\n",
              "      <td>0</td>\n",
              "    </tr>\n",
              "    <tr>\n",
              "      <th>2</th>\n",
              "      <td>10</td>\n",
              "      <td>17</td>\n",
              "      <td>0</td>\n",
              "      <td>0</td>\n",
              "      <td>0</td>\n",
              "      <td>0</td>\n",
              "      <td>0</td>\n",
              "      <td>1</td>\n",
              "      <td>0</td>\n",
              "      <td>0</td>\n",
              "      <td>...</td>\n",
              "      <td>0</td>\n",
              "      <td>0</td>\n",
              "      <td>0</td>\n",
              "      <td>0</td>\n",
              "      <td>0</td>\n",
              "      <td>0</td>\n",
              "      <td>0</td>\n",
              "      <td>1</td>\n",
              "      <td>0</td>\n",
              "      <td>0</td>\n",
              "    </tr>\n",
              "    <tr>\n",
              "      <th>3</th>\n",
              "      <td>50</td>\n",
              "      <td>51</td>\n",
              "      <td>0</td>\n",
              "      <td>0</td>\n",
              "      <td>0</td>\n",
              "      <td>0</td>\n",
              "      <td>0</td>\n",
              "      <td>1</td>\n",
              "      <td>0</td>\n",
              "      <td>0</td>\n",
              "      <td>...</td>\n",
              "      <td>0</td>\n",
              "      <td>1</td>\n",
              "      <td>0</td>\n",
              "      <td>0</td>\n",
              "      <td>1</td>\n",
              "      <td>0</td>\n",
              "      <td>0</td>\n",
              "      <td>0</td>\n",
              "      <td>0</td>\n",
              "      <td>0</td>\n",
              "    </tr>\n",
              "    <tr>\n",
              "      <th>4</th>\n",
              "      <td>38</td>\n",
              "      <td>28</td>\n",
              "      <td>0</td>\n",
              "      <td>0</td>\n",
              "      <td>0</td>\n",
              "      <td>0</td>\n",
              "      <td>0</td>\n",
              "      <td>1</td>\n",
              "      <td>0</td>\n",
              "      <td>0</td>\n",
              "      <td>...</td>\n",
              "      <td>0</td>\n",
              "      <td>0</td>\n",
              "      <td>0</td>\n",
              "      <td>0</td>\n",
              "      <td>0</td>\n",
              "      <td>1</td>\n",
              "      <td>0</td>\n",
              "      <td>0</td>\n",
              "      <td>0</td>\n",
              "      <td>0</td>\n",
              "    </tr>\n",
              "    <tr>\n",
              "      <th>...</th>\n",
              "      <td>...</td>\n",
              "      <td>...</td>\n",
              "      <td>...</td>\n",
              "      <td>...</td>\n",
              "      <td>...</td>\n",
              "      <td>...</td>\n",
              "      <td>...</td>\n",
              "      <td>...</td>\n",
              "      <td>...</td>\n",
              "      <td>...</td>\n",
              "      <td>...</td>\n",
              "      <td>...</td>\n",
              "      <td>...</td>\n",
              "      <td>...</td>\n",
              "      <td>...</td>\n",
              "      <td>...</td>\n",
              "      <td>...</td>\n",
              "      <td>...</td>\n",
              "      <td>...</td>\n",
              "      <td>...</td>\n",
              "      <td>...</td>\n",
              "    </tr>\n",
              "    <tr>\n",
              "      <th>49526</th>\n",
              "      <td>65</td>\n",
              "      <td>35</td>\n",
              "      <td>0</td>\n",
              "      <td>0</td>\n",
              "      <td>0</td>\n",
              "      <td>0</td>\n",
              "      <td>0</td>\n",
              "      <td>1</td>\n",
              "      <td>0</td>\n",
              "      <td>0</td>\n",
              "      <td>...</td>\n",
              "      <td>0</td>\n",
              "      <td>0</td>\n",
              "      <td>0</td>\n",
              "      <td>0</td>\n",
              "      <td>1</td>\n",
              "      <td>0</td>\n",
              "      <td>0</td>\n",
              "      <td>0</td>\n",
              "      <td>0</td>\n",
              "      <td>0</td>\n",
              "    </tr>\n",
              "    <tr>\n",
              "      <th>49527</th>\n",
              "      <td>77</td>\n",
              "      <td>37</td>\n",
              "      <td>0</td>\n",
              "      <td>0</td>\n",
              "      <td>0</td>\n",
              "      <td>0</td>\n",
              "      <td>0</td>\n",
              "      <td>0</td>\n",
              "      <td>0</td>\n",
              "      <td>1</td>\n",
              "      <td>...</td>\n",
              "      <td>0</td>\n",
              "      <td>1</td>\n",
              "      <td>0</td>\n",
              "      <td>0</td>\n",
              "      <td>1</td>\n",
              "      <td>0</td>\n",
              "      <td>0</td>\n",
              "      <td>0</td>\n",
              "      <td>0</td>\n",
              "      <td>0</td>\n",
              "    </tr>\n",
              "    <tr>\n",
              "      <th>49528</th>\n",
              "      <td>55</td>\n",
              "      <td>24</td>\n",
              "      <td>0</td>\n",
              "      <td>0</td>\n",
              "      <td>0</td>\n",
              "      <td>0</td>\n",
              "      <td>0</td>\n",
              "      <td>1</td>\n",
              "      <td>0</td>\n",
              "      <td>0</td>\n",
              "      <td>...</td>\n",
              "      <td>0</td>\n",
              "      <td>1</td>\n",
              "      <td>0</td>\n",
              "      <td>0</td>\n",
              "      <td>0</td>\n",
              "      <td>1</td>\n",
              "      <td>0</td>\n",
              "      <td>0</td>\n",
              "      <td>0</td>\n",
              "      <td>0</td>\n",
              "    </tr>\n",
              "    <tr>\n",
              "      <th>49529</th>\n",
              "      <td>40</td>\n",
              "      <td>24</td>\n",
              "      <td>0</td>\n",
              "      <td>0</td>\n",
              "      <td>0</td>\n",
              "      <td>0</td>\n",
              "      <td>0</td>\n",
              "      <td>1</td>\n",
              "      <td>0</td>\n",
              "      <td>0</td>\n",
              "      <td>...</td>\n",
              "      <td>0</td>\n",
              "      <td>0</td>\n",
              "      <td>0</td>\n",
              "      <td>0</td>\n",
              "      <td>0</td>\n",
              "      <td>1</td>\n",
              "      <td>0</td>\n",
              "      <td>0</td>\n",
              "      <td>0</td>\n",
              "      <td>0</td>\n",
              "    </tr>\n",
              "    <tr>\n",
              "      <th>49530</th>\n",
              "      <td>20</td>\n",
              "      <td>39</td>\n",
              "      <td>0</td>\n",
              "      <td>0</td>\n",
              "      <td>0</td>\n",
              "      <td>0</td>\n",
              "      <td>0</td>\n",
              "      <td>0</td>\n",
              "      <td>0</td>\n",
              "      <td>0</td>\n",
              "      <td>...</td>\n",
              "      <td>0</td>\n",
              "      <td>0</td>\n",
              "      <td>0</td>\n",
              "      <td>0</td>\n",
              "      <td>0</td>\n",
              "      <td>0</td>\n",
              "      <td>0</td>\n",
              "      <td>0</td>\n",
              "      <td>0</td>\n",
              "      <td>1</td>\n",
              "    </tr>\n",
              "  </tbody>\n",
              "</table>\n",
              "<p>49531 rows × 49 columns</p>\n",
              "</div>"
            ],
            "text/plain": [
              "       hours-per-week  age  groups  workclass_?  workclass_Federal-gov  \\\n",
              "0                  20   40       0            0                      0   \n",
              "1                  40   21       0            0                      0   \n",
              "2                  10   17       0            0                      0   \n",
              "3                  50   51       0            0                      0   \n",
              "4                  38   28       0            0                      0   \n",
              "...               ...  ...     ...          ...                    ...   \n",
              "49526              65   35       0            0                      0   \n",
              "49527              77   37       0            0                      0   \n",
              "49528              55   24       0            0                      0   \n",
              "49529              40   24       0            0                      0   \n",
              "49530              20   39       0            0                      0   \n",
              "\n",
              "       workclass_Local-gov  workclass_Never-worked  workclass_Private  \\\n",
              "0                        0                       0                  1   \n",
              "1                        0                       0                  1   \n",
              "2                        0                       0                  1   \n",
              "3                        0                       0                  1   \n",
              "4                        0                       0                  1   \n",
              "...                    ...                     ...                ...   \n",
              "49526                    0                       0                  1   \n",
              "49527                    0                       0                  0   \n",
              "49528                    0                       0                  1   \n",
              "49529                    0                       0                  1   \n",
              "49530                    0                       0                  0   \n",
              "\n",
              "       workclass_Self-emp-inc  workclass_Self-emp-not-inc  ...  \\\n",
              "0                           0                           0  ...   \n",
              "1                           0                           0  ...   \n",
              "2                           0                           0  ...   \n",
              "3                           0                           0  ...   \n",
              "4                           0                           0  ...   \n",
              "...                       ...                         ...  ...   \n",
              "49526                       0                           0  ...   \n",
              "49527                       0                           1  ...   \n",
              "49528                       0                           0  ...   \n",
              "49529                       0                           0  ...   \n",
              "49530                       0                           0  ...   \n",
              "\n",
              "       occupation_Protective-serv  occupation_Sales  occupation_Tech-support  \\\n",
              "0                               0                 0                        1   \n",
              "1                               0                 0                        0   \n",
              "2                               0                 0                        0   \n",
              "3                               0                 1                        0   \n",
              "4                               0                 0                        0   \n",
              "...                           ...               ...                      ...   \n",
              "49526                           0                 0                        0   \n",
              "49527                           0                 1                        0   \n",
              "49528                           0                 1                        0   \n",
              "49529                           0                 0                        0   \n",
              "49530                           0                 0                        0   \n",
              "\n",
              "       occupation_Transport-moving  relationship_Husband  \\\n",
              "0                                0                     0   \n",
              "1                                0                     0   \n",
              "2                                0                     0   \n",
              "3                                0                     1   \n",
              "4                                0                     0   \n",
              "...                            ...                   ...   \n",
              "49526                            0                     1   \n",
              "49527                            0                     1   \n",
              "49528                            0                     0   \n",
              "49529                            0                     0   \n",
              "49530                            0                     0   \n",
              "\n",
              "       relationship_Not-in-family  relationship_Other-relative  \\\n",
              "0                               0                            0   \n",
              "1                               0                            0   \n",
              "2                               0                            0   \n",
              "3                               0                            0   \n",
              "4                               1                            0   \n",
              "...                           ...                          ...   \n",
              "49526                           0                            0   \n",
              "49527                           0                            0   \n",
              "49528                           1                            0   \n",
              "49529                           1                            0   \n",
              "49530                           0                            0   \n",
              "\n",
              "       relationship_Own-child  relationship_Unmarried  relationship_Wife  \n",
              "0                           0                       0                  1  \n",
              "1                           1                       0                  0  \n",
              "2                           1                       0                  0  \n",
              "3                           0                       0                  0  \n",
              "4                           0                       0                  0  \n",
              "...                       ...                     ...                ...  \n",
              "49526                       0                       0                  0  \n",
              "49527                       0                       0                  0  \n",
              "49528                       0                       0                  0  \n",
              "49529                       0                       0                  0  \n",
              "49530                       0                       0                  1  \n",
              "\n",
              "[49531 rows x 49 columns]"
            ]
          },
          "execution_count": 146,
          "metadata": {},
          "output_type": "execute_result"
        }
      ],
      "source": [
        "X"
      ]
    },
    {
      "cell_type": "code",
      "execution_count": null,
      "id": "dd6211ce",
      "metadata": {
        "id": "dd6211ce",
        "outputId": "e446560e-9202-49da-b722-5a9cfee646b5"
      },
      "outputs": [
        {
          "data": {
            "text/html": [
              "<style>#sk-container-id-12 {color: black;}#sk-container-id-12 pre{padding: 0;}#sk-container-id-12 div.sk-toggleable {background-color: white;}#sk-container-id-12 label.sk-toggleable__label {cursor: pointer;display: block;width: 100%;margin-bottom: 0;padding: 0.3em;box-sizing: border-box;text-align: center;}#sk-container-id-12 label.sk-toggleable__label-arrow:before {content: \"▸\";float: left;margin-right: 0.25em;color: #696969;}#sk-container-id-12 label.sk-toggleable__label-arrow:hover:before {color: black;}#sk-container-id-12 div.sk-estimator:hover label.sk-toggleable__label-arrow:before {color: black;}#sk-container-id-12 div.sk-toggleable__content {max-height: 0;max-width: 0;overflow: hidden;text-align: left;background-color: #f0f8ff;}#sk-container-id-12 div.sk-toggleable__content pre {margin: 0.2em;color: black;border-radius: 0.25em;background-color: #f0f8ff;}#sk-container-id-12 input.sk-toggleable__control:checked~div.sk-toggleable__content {max-height: 200px;max-width: 100%;overflow: auto;}#sk-container-id-12 input.sk-toggleable__control:checked~label.sk-toggleable__label-arrow:before {content: \"▾\";}#sk-container-id-12 div.sk-estimator input.sk-toggleable__control:checked~label.sk-toggleable__label {background-color: #d4ebff;}#sk-container-id-12 div.sk-label input.sk-toggleable__control:checked~label.sk-toggleable__label {background-color: #d4ebff;}#sk-container-id-12 input.sk-hidden--visually {border: 0;clip: rect(1px 1px 1px 1px);clip: rect(1px, 1px, 1px, 1px);height: 1px;margin: -1px;overflow: hidden;padding: 0;position: absolute;width: 1px;}#sk-container-id-12 div.sk-estimator {font-family: monospace;background-color: #f0f8ff;border: 1px dotted black;border-radius: 0.25em;box-sizing: border-box;margin-bottom: 0.5em;}#sk-container-id-12 div.sk-estimator:hover {background-color: #d4ebff;}#sk-container-id-12 div.sk-parallel-item::after {content: \"\";width: 100%;border-bottom: 1px solid gray;flex-grow: 1;}#sk-container-id-12 div.sk-label:hover label.sk-toggleable__label {background-color: #d4ebff;}#sk-container-id-12 div.sk-serial::before {content: \"\";position: absolute;border-left: 1px solid gray;box-sizing: border-box;top: 0;bottom: 0;left: 50%;z-index: 0;}#sk-container-id-12 div.sk-serial {display: flex;flex-direction: column;align-items: center;background-color: white;padding-right: 0.2em;padding-left: 0.2em;position: relative;}#sk-container-id-12 div.sk-item {position: relative;z-index: 1;}#sk-container-id-12 div.sk-parallel {display: flex;align-items: stretch;justify-content: center;background-color: white;position: relative;}#sk-container-id-12 div.sk-item::before, #sk-container-id-12 div.sk-parallel-item::before {content: \"\";position: absolute;border-left: 1px solid gray;box-sizing: border-box;top: 0;bottom: 0;left: 50%;z-index: -1;}#sk-container-id-12 div.sk-parallel-item {display: flex;flex-direction: column;z-index: 1;position: relative;background-color: white;}#sk-container-id-12 div.sk-parallel-item:first-child::after {align-self: flex-end;width: 50%;}#sk-container-id-12 div.sk-parallel-item:last-child::after {align-self: flex-start;width: 50%;}#sk-container-id-12 div.sk-parallel-item:only-child::after {width: 0;}#sk-container-id-12 div.sk-dashed-wrapped {border: 1px dashed gray;margin: 0 0.4em 0.5em 0.4em;box-sizing: border-box;padding-bottom: 0.4em;background-color: white;}#sk-container-id-12 div.sk-label label {font-family: monospace;font-weight: bold;display: inline-block;line-height: 1.2em;}#sk-container-id-12 div.sk-label-container {text-align: center;}#sk-container-id-12 div.sk-container {/* jupyter's `normalize.less` sets `[hidden] { display: none; }` but bootstrap.min.css set `[hidden] { display: none !important; }` so we also need the `!important` here to be able to override the default hidden behavior on the sphinx rendered scikit-learn.org. See: https://github.com/scikit-learn/scikit-learn/issues/21755 */display: inline-block !important;position: relative;}#sk-container-id-12 div.sk-text-repr-fallback {display: none;}</style><div id=\"sk-container-id-12\" class=\"sk-top-container\"><div class=\"sk-text-repr-fallback\"><pre>RandomForestClassifier(random_state=1000)</pre><b>In a Jupyter environment, please rerun this cell to show the HTML representation or trust the notebook. <br />On GitHub, the HTML representation is unable to render, please try loading this page with nbviewer.org.</b></div><div class=\"sk-container\" hidden><div class=\"sk-item\"><div class=\"sk-estimator sk-toggleable\"><input class=\"sk-toggleable__control sk-hidden--visually\" id=\"sk-estimator-id-12\" type=\"checkbox\" checked><label for=\"sk-estimator-id-12\" class=\"sk-toggleable__label sk-toggleable__label-arrow\">RandomForestClassifier</label><div class=\"sk-toggleable__content\"><pre>RandomForestClassifier(random_state=1000)</pre></div></div></div></div></div>"
            ],
            "text/plain": [
              "RandomForestClassifier(random_state=1000)"
            ]
          },
          "execution_count": 166,
          "metadata": {},
          "output_type": "execute_result"
        }
      ],
      "source": [
        "X_train, X_test, y_train, y_test = train_test_split(X, y, test_size = 0.2, random_state = 12345)\n",
        "\n",
        "\n",
        "clf = RandomForestClassifier(random_state = 1000)\n",
        "clf.fit(X_train, y_train)\n"
      ]
    },
    {
      "cell_type": "code",
      "execution_count": null,
      "id": "1a55073c",
      "metadata": {
        "id": "1a55073c"
      },
      "outputs": [],
      "source": [
        "y_hat = clf.predict(X_test)\n"
      ]
    },
    {
      "cell_type": "code",
      "execution_count": null,
      "id": "81aed18d",
      "metadata": {
        "id": "81aed18d"
      },
      "outputs": [],
      "source": [
        "def compute_metrics(y_hat,\n",
        "                    y_test,\n",
        "                    X_test):\n",
        "\n",
        "    test = X_test.copy()\n",
        "    test['outcome'] = y_test\n",
        "    test['predicted'] = y_hat\n",
        "\n",
        "    TP_0 = sum((y_hat == 1) & (y_test == 1) & (X_test['groups'] == 0))/sum((y_test == 1) & (X_test['groups'] == 0))\n",
        "    FP_0 = sum((y_hat == 1) & (y_test == 0) & (X_test['groups'] == 0))/sum((y_test == 0) & (X_test['groups'] == 0))\n",
        "    TN_0 = sum((y_hat == 0) & (y_test == 0) & (X_test['groups'] == 0))/sum((y_test == 0) & (X_test['groups'] == 0))\n",
        "    FN_0 = sum((y_hat == 0) & (y_test == 1) & (X_test['groups'] == 0))/sum((y_test == 1) & (X_test['groups'] == 0))\n",
        "\n",
        "    TP_1 = sum((y_hat == 1) & (y_test == 1) & (X_test['groups'] == 1))/sum((y_test == 1) & (X_test['groups'] == 1))\n",
        "    FP_1 = sum((y_hat == 1) & (y_test == 0) & (X_test['groups'] == 1))/sum((y_test == 0) & (X_test['groups'] == 1))\n",
        "    TN_1 = sum((y_hat == 0) & (y_test == 0) & (X_test['groups'] == 1))/sum((y_test == 0) & (X_test['groups'] == 1))\n",
        "    FN_1 = sum((y_hat == 0) & (y_test == 1) & (X_test['groups'] == 1))/sum((y_test == 1) & (X_test['groups'] == 1))\n",
        "\n",
        "    # Calculate measures for g0\n",
        "    accuracy_g0 = accuracy_score(y_test, y_hat, sample_weight=X_test['groups'] == 0)\n",
        "    precision_g0 = sum((y_test == 1) & (X_test['groups'] == 0) & (y_hat == 1))/sum((y_hat == 1) & (X_test['groups'] == 0))\n",
        "    recall_g0 = TP_0/(TP_0 + FN_0)\n",
        "    false_negative_rate_g0 = FN_0\n",
        "    false_positive_rate_g0 = FP_0\n",
        "\n",
        "    accuracy_g1 = accuracy_score(y_test, y_hat, sample_weight=X_test['groups'] == 1)\n",
        "    precision_g1 = sum((y_test == 1) & (X_test['groups'] == 1) & (y_hat == 1))/sum((y_hat == 1) & (X_test['groups'] == 1))\n",
        "    recall_g1 = TP_1/(TP_1 + FN_1)\n",
        "    false_negative_rate_g1 = FN_1\n",
        "    false_positive_rate_g1 = FP_1\n",
        "\n",
        "    metrics_df = pd.DataFrame({\n",
        "    \"Group\": [\"0-OtherRaces\", \"0-OtherRaces\", \"0-OtherRaces\", \"0-OtherRaces\", \"0-OtherRaces\",\n",
        "              \"1-Asian-Pac-Islander\", \"1-Asian-Pac-Islander\", \"1-Asian-Pac-Islander\", \"1-Asian-Pac-Islander\", \"1-Asian-Pac-Islander\"],\n",
        "    \"Metric\": [\"Accuracy\", \"Precision\", \"Recall\", \"FNR\",\"FPR\", \"Accuracy\", \"Precision\", \"Recall\", \"FNR\",\"FPR\"],\n",
        "    \"Value\": [accuracy_g0, precision_g0, recall_g0, false_negative_rate_g0, false_positive_rate_g0,\n",
        "              accuracy_g1, precision_g1, recall_g1, false_negative_rate_g1, false_positive_rate_g1]})\n",
        "\n",
        "    return metrics_df\n"
      ]
    },
    {
      "cell_type": "code",
      "execution_count": null,
      "id": "e823a66b",
      "metadata": {
        "scrolled": true,
        "id": "e823a66b",
        "outputId": "0fab1a98-385b-4aa3-be60-3abc78c26bfc"
      },
      "outputs": [
        {
          "name": "stdout",
          "output_type": "stream",
          "text": [
            "Group      0-OtherRaces  1-Asian-Pac-Islander\n",
            "Metric                                       \n",
            "Accuracy       0.808886              0.799270\n",
            "FNR            0.112556              0.121212\n",
            "FPR            0.448889              0.407895\n",
            "Precision      0.866437              0.848780\n",
            "Recall         0.887444              0.878788\n"
          ]
        }
      ],
      "source": [
        "metrics_df = compute_metrics(y_hat = y_hat, y_test = y_test, X_test = X_test)\n",
        "\n",
        "print(metrics_df.pivot(index='Metric', columns='Group', values='Value'))\n",
        "#It looks like Asian-Pacific-Islanders have a higher false negative rate. This means the algorithm is incorrectly\n",
        "#predicting that Asian-Pacific-Islanders are higher earners when they are actually low earners. If we were to use\n",
        "#this algorithm for decision making we would be choosing to not help Asian-Pac-Islanders who need help at a higher rate\n",
        "#than other races."
      ]
    },
    {
      "cell_type": "code",
      "execution_count": null,
      "id": "244886a2",
      "metadata": {
        "id": "244886a2",
        "outputId": "4332fc8d-41b6-470f-cd4a-ad7d3b772d74"
      },
      "outputs": [
        {
          "data": {
            "text/plain": [
              "38379"
            ]
          },
          "execution_count": 170,
          "metadata": {},
          "output_type": "execute_result"
        }
      ],
      "source": [
        "\n",
        "group_counts = [sum(X_train['groups'] == 0), sum(X_train['groups'] == 1)]\n",
        "most_represented_group_count = max(group_counts)\n",
        "most_represented_group_count"
      ]
    },
    {
      "cell_type": "code",
      "execution_count": null,
      "id": "07404459",
      "metadata": {
        "id": "07404459"
      },
      "outputs": [],
      "source": [
        "X_train['weights'] = X_train['groups'].apply(lambda x: most_represented_group_count / group_counts[x])"
      ]
    },
    {
      "cell_type": "code",
      "execution_count": null,
      "id": "f53aaeea",
      "metadata": {
        "id": "f53aaeea",
        "outputId": "f0b7d384-82b8-4ef9-e2cb-fae334e3de2b"
      },
      "outputs": [
        {
          "name": "stdout",
          "output_type": "stream",
          "text": [
            "Group      0-OtherRaces  1-Asian-Pac-Islander\n",
            "Metric                                       \n",
            "Accuracy       0.812000              0.795620\n",
            "FNR            0.109305              0.121212\n",
            "FPR            0.446222              0.421053\n",
            "Precision      0.867546              0.844660\n",
            "Recall         0.890695              0.878788\n"
          ]
        }
      ],
      "source": [
        "weights = X_train['weights']\n",
        "X_train.drop(['weights'],axis=1,inplace=True)\n",
        "\n",
        "\n",
        "clf_preprocess = RandomForestClassifier(random_state = 1000)\n",
        "clf_preprocess.fit(X_train, y_train, weights)\n",
        "\n",
        "#predictions on the testing set\n",
        "y_hat_preprocess = clf_preprocess.predict(X_test)\n",
        "\n",
        "metrics_df = compute_metrics(y_hat = y_hat_preprocess, y_test = y_test, X_test = X_test)\n",
        "\n",
        "print(metrics_df.pivot(index='Metric', columns='Group', values='Value'))\n",
        "\n",
        "#This actually increased the gap in false negative rates\n"
      ]
    },
    {
      "cell_type": "code",
      "execution_count": null,
      "id": "fec88da7",
      "metadata": {
        "scrolled": true,
        "id": "fec88da7"
      },
      "outputs": [],
      "source": [
        "def split_train_and_test_by_group(X_train, X_test, y_train, y_test):\n",
        "\n",
        "\n",
        "    train = X_train.copy()\n",
        "    test = X_test.copy()\n",
        "    train['outcome'] = y_train\n",
        "    test['outcome'] = y_test\n",
        "\n",
        "    # split train and test by group\n",
        "    train_g1 = train[train['groups']==1]\n",
        "    train_g0 = train[train['groups']==0]\n",
        "    test_g1 = test[test['groups']==1]\n",
        "    test_g0 = test[test['groups']==0]\n",
        "\n",
        "    # separate outcomes from test\n",
        "    y_train_g1 = train_g1['outcome']\n",
        "    y_train_g0 = train_g0['outcome']\n",
        "    y_test_g1 = test_g1['outcome']\n",
        "    y_test_g0 = test_g0['outcome']\n",
        "\n",
        "    X_train_g1 = train_g1.drop(['outcome', 'groups'], axis=1)\n",
        "    X_train_g0 = train_g0.drop(['outcome', 'groups'], axis=1)\n",
        "    X_test_g1 = test_g1.drop(['outcome', 'groups'], axis=1)\n",
        "    X_test_g0 = test_g0.drop(['outcome', 'groups'], axis=1)\n",
        "\n",
        "    return y_train_g1, y_train_g0, y_test_g1, y_test_g0, X_train_g1, X_train_g0, X_test_g1, X_test_g0\n",
        "\n",
        "\n",
        "y_train_g1, y_train_g0, y_test_g1, y_test_g0, \\\n",
        "X_train_g1, X_train_g0, X_test_g1, X_test_g0 = split_train_and_test_by_group(X_train = X_train,\n",
        "                                                                              X_test = X_test,\n",
        "                                                                              y_train = y_train,\n",
        "                                                                              y_test = y_test)\n",
        "\n",
        "\n",
        "\n"
      ]
    },
    {
      "cell_type": "code",
      "execution_count": null,
      "id": "86377c4e",
      "metadata": {
        "id": "86377c4e"
      },
      "outputs": [],
      "source": [
        "clf_g0 = RandomForestClassifier(random_state=1000)\n",
        "clf_g0.fit(X_train_g0, y_train_g0)\n",
        "clf_g1 = RandomForestClassifier(random_state=1000)\n",
        "clf_g1.fit(X_train_g1, y_train_g1)\n",
        "y_hat_g0 = clf_g0.predict(X_test_g0)\n",
        "y_hat_g1 = clf_g1.predict(X_test_g1)"
      ]
    },
    {
      "cell_type": "code",
      "execution_count": null,
      "id": "75602cea",
      "metadata": {
        "id": "75602cea"
      },
      "outputs": [],
      "source": [
        "def merge_separate_models(y_hat_g1, y_hat_g0, y_test_g1, \\\n",
        "                          y_test_g0, X_test_g1, X_test_g0):\n",
        "\n",
        "    test_g1 = X_test_g1.copy()\n",
        "    test_g1['groups'] = 1\n",
        "    test_g1['outcome'] = y_test_g1\n",
        "    test_g1['pred'] = y_hat_g1\n",
        "\n",
        "    test_g0 = X_test_g0.copy()\n",
        "    test_g0['groups'] = 0\n",
        "    test_g0['outcome'] = y_test_g0\n",
        "    test_g0['pred'] = y_hat_g0\n",
        "\n",
        "    # Merge back together\n",
        "    test = pd.concat([test_g0, test_g1])\n",
        "\n",
        "    y_test = test['outcome']\n",
        "    y_hat = test['pred']\n",
        "    X_test = test.drop(['outcome','pred'], axis=1)\n",
        "\n",
        "    return y_test, y_hat, X_test\n",
        "\n",
        "\n",
        "y_test_combined, \\\n",
        "y_hat_combined, \\\n",
        "X_test_combined = merge_separate_models(y_hat_g1 = y_hat_g1,\n",
        "                                        y_hat_g0 = y_hat_g0,\n",
        "                                        y_test_g1 = y_test_g1,\n",
        "                                        y_test_g0 = y_test_g0,\n",
        "                                        X_test_g1 = X_test_g1,\n",
        "                                        X_test_g0 = X_test_g0)\n",
        "\n",
        "\n",
        "\n",
        "\n",
        ""
      ]
    },
    {
      "cell_type": "code",
      "execution_count": null,
      "id": "17091c94",
      "metadata": {
        "id": "17091c94",
        "outputId": "ecee617e-195e-443f-9639-02dc72e99d3b"
      },
      "outputs": [
        {
          "name": "stdout",
          "output_type": "stream",
          "text": [
            "Group      0-OtherRaces  1-Asian-Pac-Islander\n",
            "Metric                                       \n",
            "Accuracy       0.811378              0.813869\n",
            "FNR            0.111608              0.111111\n",
            "FPR            0.441333              0.381579\n",
            "Precision      0.868512              0.858537\n",
            "Recall         0.888392              0.888889\n"
          ]
        }
      ],
      "source": [
        "metrics_df = compute_metrics(y_hat = y_hat_combined,\n",
        "                             y_test = y_test_combined,\n",
        "                             X_test = X_test_combined)\n",
        "\n",
        "print(metrics_df.pivot(index='Metric', columns='Group', values='Value'))"
      ]
    },
    {
      "cell_type": "code",
      "execution_count": null,
      "id": "db187716",
      "metadata": {
        "id": "db187716",
        "outputId": "2044851d-fc9b-4e7a-8e68-46d62b6e7554"
      },
      "outputs": [
        {
          "data": {
            "text/plain": [
              "-105.74168207024026"
            ]
          },
          "execution_count": 180,
          "metadata": {},
          "output_type": "execute_result"
        }
      ],
      "source": [
        "#change in false negative rate gap\n",
        "initial_diff = .121212-.112556\n",
        "new_diff = .111111-.111608\n",
        "pct_change = 100 * ((new_diff - initial_diff)/initial_diff)\n",
        "pct_change"
      ]
    },
    {
      "cell_type": "code",
      "execution_count": null,
      "id": "06ae49bb",
      "metadata": {
        "id": "06ae49bb"
      },
      "outputs": [],
      "source": [
        "threshold_values = [i/100 for i in range(50, 90)]\n",
        "y_hat_probs = clf.predict_proba(X_test)[:,1]"
      ]
    },
    {
      "cell_type": "code",
      "execution_count": null,
      "id": "8cebb449",
      "metadata": {
        "id": "8cebb449"
      },
      "outputs": [],
      "source": [
        "def evaluate_group_thresholds(y_true, y_proba, groups, threshold_values):\n",
        "\n",
        "    unique_groups = np.unique(groups)\n",
        "    # This enumerates all possible options for threshold values within the range specified\n",
        "    all_combinations = list(product(threshold_values, repeat=len(unique_groups)))\n",
        "    # Prepare a list to collect results\n",
        "    results = []\n",
        "    for combination in all_combinations:\n",
        "        group_thresholds = {group: threshold for group, threshold in zip(unique_groups, combination)}\n",
        "        #print(group_thresholds)\n",
        "        # Apply group-specific thresholds to generate predictions\n",
        "        y_pred = np.zeros(y_true.shape)\n",
        "        for group, threshold in group_thresholds.items():\n",
        "            group_mask = (groups == group)\n",
        "            y_pred[group_mask] = (y_proba[group_mask] > threshold).astype(int)\n",
        "\n",
        "\n",
        "        # Calculate FNR for each group\n",
        "        fnrs = {}\n",
        "        for group in unique_groups:\n",
        "            group_mask = (groups == group)\n",
        "            group_true = y_true[group_mask]\n",
        "            group_pred = y_pred[group_mask]\n",
        "            FN = sum((group_pred == 0) & (group_true == 1))\n",
        "            TP = sum((group_pred == 1) & (group_true == 1))\n",
        "            fnrs[group] = (FN)/(TP+FN)\n",
        "\n",
        "        # Calculate overall accuracy\n",
        "        overall_accuracy = accuracy_score(y_true, y_pred)\n",
        "\n",
        "        # Calculate the FnR difference\n",
        "        fnr_diff = fnrs[unique_groups[0]] - fnrs[unique_groups[1]]\n",
        "        # Create a row of data as a list of four items (see columns for below for ordering)\n",
        "        row = [combination[0], combination[1], overall_accuracy, fnr_diff]\n",
        "        results.append(row)\n",
        "\n",
        "\n",
        "    # Create a DataFrame from the collected results\n",
        "    columns = ['Threshold 0', 'Threshold 1', 'Model Accuracy', 'FNR Difference']\n",
        "    results_df = pd.DataFrame(results, columns=columns)\n",
        "\n",
        "    return results_df\n",
        "\n",
        "\n",
        "results = evaluate_group_thresholds(y_true = y_test,\n",
        "                                    y_proba = y_hat_probs,\n",
        "                                    groups = X_test['groups'],\n",
        "                                    threshold_values = threshold_values)"
      ]
    },
    {
      "cell_type": "code",
      "execution_count": null,
      "id": "585cfd2e",
      "metadata": {
        "id": "585cfd2e",
        "outputId": "b30c9652-304f-4165-92c9-de6541874694"
      },
      "outputs": [
        {
          "name": "stdout",
          "output_type": "stream",
          "text": [
            "      Threshold 0  Threshold 1  Model Accuracy  FNR Difference\n",
            "80           0.52         0.50        0.807510       -0.000123\n",
            "81           0.52         0.51        0.807510       -0.000123\n",
            "365          0.59         0.55        0.806400        0.000127\n",
            "1180         0.79         0.70        0.766125       -0.000111\n",
            "Threshold 0       0.520000\n",
            "Threshold 1       0.500000\n",
            "Model Accuracy    0.807510\n",
            "FNR Difference   -0.000123\n",
            "Name: 80, dtype: float64\n"
          ]
        }
      ],
      "source": [
        "# Filter the DataFrame for rows where the absolute FR difference is less than 0.05.\n",
        "fnr_threshold_subset = results[abs(results['FNR Difference']) < .0003]\n",
        "print(fnr_threshold_subset)\n",
        "# Find the index of the row with the maximum accuracy in the filtered subset\n",
        "max_accuracy_index = fnr_threshold_subset['Model Accuracy'].idxmax()\n",
        "\n",
        "# Retrieve the row with the maximum accuracy\n",
        "max_accuracy_row = results.iloc[max_accuracy_index]\n",
        "print(max_accuracy_row)"
      ]
    },
    {
      "cell_type": "code",
      "execution_count": null,
      "id": "d7bd4880",
      "metadata": {
        "id": "d7bd4880"
      },
      "outputs": [],
      "source": [
        "def generate_group_level_labels(y_proba, groups, max_accuracy_row):\n",
        "\n",
        "    y_pred = np.zeros(y_proba.shape)\n",
        "    for group in groups.unique():\n",
        "        group_mask = (groups == group)\n",
        "        j = 'Threshold 1'\n",
        "        if group == 0:\n",
        "            j = 'Threshold 0'\n",
        "        y_pred[group_mask] = (y_proba[group_mask] > max_accuracy_row[j])\n",
        "\n",
        "    return y_pred\n",
        "\n",
        "\n",
        "y_hat_thresholds = generate_group_level_labels(y_proba = y_hat_probs,\n",
        "                                               groups = X_test['groups'],\n",
        "                                               max_accuracy_row = max_accuracy_row)\n",
        ""
      ]
    },
    {
      "cell_type": "code",
      "execution_count": null,
      "id": "613756f6",
      "metadata": {
        "id": "613756f6",
        "outputId": "cf35c88b-667f-4d1e-befe-e46b8646322e"
      },
      "outputs": [
        {
          "name": "stdout",
          "output_type": "stream",
          "text": [
            "Group      0-OtherRaces  1-Asian-Pac-Islander\n",
            "Metric                                       \n",
            "Accuracy       0.807744              0.799270\n",
            "FNR            0.121089              0.121212\n",
            "FPR            0.425778              0.407895\n",
            "Precision      0.871358              0.848780\n",
            "Recall         0.878911              0.878788\n"
          ]
        }
      ],
      "source": [
        "metrics_df = compute_metrics(y_hat = y_hat_thresholds,\n",
        "                             y_test = y_test,\n",
        "                             X_test = X_test)\n",
        "\n",
        "print(metrics_df.pivot(index='Metric', columns='Group', values='Value'))"
      ]
    },
    {
      "cell_type": "code",
      "execution_count": null,
      "id": "ad1c830c",
      "metadata": {
        "id": "ad1c830c"
      },
      "outputs": [],
      "source": [
        "#so as it turns out the the decoupled classifier approach leads to the lowest false negative rate across the groups\n",
        "#and does a good job minimizing the difference.\n"
      ]
    }
  ],
  "metadata": {
    "kernelspec": {
      "display_name": "Python 3 (ipykernel)",
      "language": "python",
      "name": "python3"
    },
    "language_info": {
      "codemirror_mode": {
        "name": "ipython",
        "version": 3
      },
      "file_extension": ".py",
      "mimetype": "text/x-python",
      "name": "python",
      "nbconvert_exporter": "python",
      "pygments_lexer": "ipython3",
      "version": "3.11.4"
    },
    "colab": {
      "provenance": [],
      "include_colab_link": true
    }
  },
  "nbformat": 4,
  "nbformat_minor": 5
}